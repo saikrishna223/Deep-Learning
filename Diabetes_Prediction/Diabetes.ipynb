{
 "cells": [
  {
   "cell_type": "code",
   "execution_count": 1,
   "metadata": {
    "colab": {
     "base_uri": "https://localhost:8080/",
     "height": 72,
     "resources": {
      "http://localhost:8080/nbextensions/google.colab/files.js": {
       "data": "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",
       "headers": [
        [
         "content-type",
         "application/javascript"
        ]
       ],
       "ok": true,
       "status": 200,
       "status_text": ""
      }
     }
    },
    "colab_type": "code",
    "id": "XGQh6k2xI5KO",
    "outputId": "33cf152c-27aa-4949-fddc-a1ded481639f"
   },
   "outputs": [
    {
     "data": {
      "text/html": [
       "\n",
       "     <input type=\"file\" id=\"files-60f47928-70f1-464d-a863-23846ed1e063\" name=\"files[]\" multiple disabled\n",
       "        style=\"border:none\" />\n",
       "     <output id=\"result-60f47928-70f1-464d-a863-23846ed1e063\">\n",
       "      Upload widget is only available when the cell has been executed in the\n",
       "      current browser session. Please rerun this cell to enable.\n",
       "      </output>\n",
       "      <script src=\"/nbextensions/google.colab/files.js\"></script> "
      ],
      "text/plain": [
       "<IPython.core.display.HTML object>"
      ]
     },
     "metadata": {
      "tags": []
     },
     "output_type": "display_data"
    },
    {
     "name": "stdout",
     "output_type": "stream",
     "text": [
      "Saving Diabetes_data.csv to Diabetes_data (7).csv\n"
     ]
    }
   ],
   "source": [
    "import pandas as pd\n",
    "import numpy as np\n",
    "from google.colab import files\n",
    "data_to_load = files.upload()"
   ]
  },
  {
   "cell_type": "code",
   "execution_count": 2,
   "metadata": {
    "colab": {},
    "colab_type": "code",
    "id": "d78UjhvkJJyz"
   },
   "outputs": [],
   "source": [
    "import io\n",
    "df = pd.read_csv(io.BytesIO(data_to_load['Diabetes_data.csv']))"
   ]
  },
  {
   "cell_type": "code",
   "execution_count": 3,
   "metadata": {
    "colab": {
     "base_uri": "https://localhost:8080/",
     "height": 34
    },
    "colab_type": "code",
    "id": "aDi1J5QUJNwW",
    "outputId": "df35e7a9-412e-4030-a74e-83c941ba338a"
   },
   "outputs": [
    {
     "name": "stderr",
     "output_type": "stream",
     "text": [
      "Using TensorFlow backend.\n"
     ]
    }
   ],
   "source": [
    "from numpy import loadtxt\n",
    "from keras.models import Sequential\n",
    "from keras.layers import Dense"
   ]
  },
  {
   "cell_type": "code",
   "execution_count": 4,
   "metadata": {
    "colab": {
     "base_uri": "https://localhost:8080/",
     "height": 204
    },
    "colab_type": "code",
    "id": "EsIkAIRFKuVW",
    "outputId": "51a9211c-fafc-4d7b-cb92-ab66655c7e43"
   },
   "outputs": [
    {
     "data": {
      "text/html": [
       "<div>\n",
       "<style scoped>\n",
       "    .dataframe tbody tr th:only-of-type {\n",
       "        vertical-align: middle;\n",
       "    }\n",
       "\n",
       "    .dataframe tbody tr th {\n",
       "        vertical-align: top;\n",
       "    }\n",
       "\n",
       "    .dataframe thead th {\n",
       "        text-align: right;\n",
       "    }\n",
       "</style>\n",
       "<table border=\"1\" class=\"dataframe\">\n",
       "  <thead>\n",
       "    <tr style=\"text-align: right;\">\n",
       "      <th></th>\n",
       "      <th>Pregnancies</th>\n",
       "      <th>Glucose</th>\n",
       "      <th>BloodPressure</th>\n",
       "      <th>SkinThickness</th>\n",
       "      <th>Insulin</th>\n",
       "      <th>BMI</th>\n",
       "      <th>DiabetesPedigreeFunction</th>\n",
       "      <th>Age</th>\n",
       "      <th>Outcome</th>\n",
       "    </tr>\n",
       "  </thead>\n",
       "  <tbody>\n",
       "    <tr>\n",
       "      <th>0</th>\n",
       "      <td>6</td>\n",
       "      <td>148</td>\n",
       "      <td>72</td>\n",
       "      <td>35</td>\n",
       "      <td>0</td>\n",
       "      <td>33.6</td>\n",
       "      <td>0.627</td>\n",
       "      <td>50</td>\n",
       "      <td>1</td>\n",
       "    </tr>\n",
       "    <tr>\n",
       "      <th>1</th>\n",
       "      <td>1</td>\n",
       "      <td>85</td>\n",
       "      <td>66</td>\n",
       "      <td>29</td>\n",
       "      <td>0</td>\n",
       "      <td>26.6</td>\n",
       "      <td>0.351</td>\n",
       "      <td>31</td>\n",
       "      <td>0</td>\n",
       "    </tr>\n",
       "    <tr>\n",
       "      <th>2</th>\n",
       "      <td>8</td>\n",
       "      <td>183</td>\n",
       "      <td>64</td>\n",
       "      <td>0</td>\n",
       "      <td>0</td>\n",
       "      <td>23.3</td>\n",
       "      <td>0.672</td>\n",
       "      <td>32</td>\n",
       "      <td>1</td>\n",
       "    </tr>\n",
       "    <tr>\n",
       "      <th>3</th>\n",
       "      <td>1</td>\n",
       "      <td>89</td>\n",
       "      <td>66</td>\n",
       "      <td>23</td>\n",
       "      <td>94</td>\n",
       "      <td>28.1</td>\n",
       "      <td>0.167</td>\n",
       "      <td>21</td>\n",
       "      <td>0</td>\n",
       "    </tr>\n",
       "    <tr>\n",
       "      <th>4</th>\n",
       "      <td>0</td>\n",
       "      <td>137</td>\n",
       "      <td>40</td>\n",
       "      <td>35</td>\n",
       "      <td>168</td>\n",
       "      <td>43.1</td>\n",
       "      <td>2.288</td>\n",
       "      <td>33</td>\n",
       "      <td>1</td>\n",
       "    </tr>\n",
       "  </tbody>\n",
       "</table>\n",
       "</div>"
      ],
      "text/plain": [
       "   Pregnancies  Glucose  BloodPressure  ...  DiabetesPedigreeFunction  Age  Outcome\n",
       "0            6      148             72  ...                     0.627   50        1\n",
       "1            1       85             66  ...                     0.351   31        0\n",
       "2            8      183             64  ...                     0.672   32        1\n",
       "3            1       89             66  ...                     0.167   21        0\n",
       "4            0      137             40  ...                     2.288   33        1\n",
       "\n",
       "[5 rows x 9 columns]"
      ]
     },
     "execution_count": 4,
     "metadata": {
      "tags": []
     },
     "output_type": "execute_result"
    }
   ],
   "source": [
    "df.head()"
   ]
  },
  {
   "cell_type": "code",
   "execution_count": 5,
   "metadata": {
    "colab": {},
    "colab_type": "code",
    "id": "0l7cE7TtK3PS"
   },
   "outputs": [],
   "source": [
    "X = df.iloc[:,0:8]\n",
    "y = df.iloc[:,8]"
   ]
  },
  {
   "cell_type": "code",
   "execution_count": 6,
   "metadata": {
    "colab": {
     "base_uri": "https://localhost:8080/",
     "height": 204
    },
    "colab_type": "code",
    "id": "n6hwVGeIK9h_",
    "outputId": "5d43b350-e0af-40eb-824b-deb05c8bcedd"
   },
   "outputs": [
    {
     "data": {
      "text/html": [
       "<div>\n",
       "<style scoped>\n",
       "    .dataframe tbody tr th:only-of-type {\n",
       "        vertical-align: middle;\n",
       "    }\n",
       "\n",
       "    .dataframe tbody tr th {\n",
       "        vertical-align: top;\n",
       "    }\n",
       "\n",
       "    .dataframe thead th {\n",
       "        text-align: right;\n",
       "    }\n",
       "</style>\n",
       "<table border=\"1\" class=\"dataframe\">\n",
       "  <thead>\n",
       "    <tr style=\"text-align: right;\">\n",
       "      <th></th>\n",
       "      <th>Pregnancies</th>\n",
       "      <th>Glucose</th>\n",
       "      <th>BloodPressure</th>\n",
       "      <th>SkinThickness</th>\n",
       "      <th>Insulin</th>\n",
       "      <th>BMI</th>\n",
       "      <th>DiabetesPedigreeFunction</th>\n",
       "      <th>Age</th>\n",
       "    </tr>\n",
       "  </thead>\n",
       "  <tbody>\n",
       "    <tr>\n",
       "      <th>0</th>\n",
       "      <td>6</td>\n",
       "      <td>148</td>\n",
       "      <td>72</td>\n",
       "      <td>35</td>\n",
       "      <td>0</td>\n",
       "      <td>33.6</td>\n",
       "      <td>0.627</td>\n",
       "      <td>50</td>\n",
       "    </tr>\n",
       "    <tr>\n",
       "      <th>1</th>\n",
       "      <td>1</td>\n",
       "      <td>85</td>\n",
       "      <td>66</td>\n",
       "      <td>29</td>\n",
       "      <td>0</td>\n",
       "      <td>26.6</td>\n",
       "      <td>0.351</td>\n",
       "      <td>31</td>\n",
       "    </tr>\n",
       "    <tr>\n",
       "      <th>2</th>\n",
       "      <td>8</td>\n",
       "      <td>183</td>\n",
       "      <td>64</td>\n",
       "      <td>0</td>\n",
       "      <td>0</td>\n",
       "      <td>23.3</td>\n",
       "      <td>0.672</td>\n",
       "      <td>32</td>\n",
       "    </tr>\n",
       "    <tr>\n",
       "      <th>3</th>\n",
       "      <td>1</td>\n",
       "      <td>89</td>\n",
       "      <td>66</td>\n",
       "      <td>23</td>\n",
       "      <td>94</td>\n",
       "      <td>28.1</td>\n",
       "      <td>0.167</td>\n",
       "      <td>21</td>\n",
       "    </tr>\n",
       "    <tr>\n",
       "      <th>4</th>\n",
       "      <td>0</td>\n",
       "      <td>137</td>\n",
       "      <td>40</td>\n",
       "      <td>35</td>\n",
       "      <td>168</td>\n",
       "      <td>43.1</td>\n",
       "      <td>2.288</td>\n",
       "      <td>33</td>\n",
       "    </tr>\n",
       "  </tbody>\n",
       "</table>\n",
       "</div>"
      ],
      "text/plain": [
       "   Pregnancies  Glucose  BloodPressure  ...   BMI  DiabetesPedigreeFunction  Age\n",
       "0            6      148             72  ...  33.6                     0.627   50\n",
       "1            1       85             66  ...  26.6                     0.351   31\n",
       "2            8      183             64  ...  23.3                     0.672   32\n",
       "3            1       89             66  ...  28.1                     0.167   21\n",
       "4            0      137             40  ...  43.1                     2.288   33\n",
       "\n",
       "[5 rows x 8 columns]"
      ]
     },
     "execution_count": 6,
     "metadata": {
      "tags": []
     },
     "output_type": "execute_result"
    }
   ],
   "source": [
    "X.head()"
   ]
  },
  {
   "cell_type": "code",
   "execution_count": 7,
   "metadata": {
    "colab": {
     "base_uri": "https://localhost:8080/",
     "height": 119
    },
    "colab_type": "code",
    "id": "xrmPfMtBLiDO",
    "outputId": "0f8e2a25-35d3-4555-a89f-a604d14b6700"
   },
   "outputs": [
    {
     "data": {
      "text/plain": [
       "0    1\n",
       "1    0\n",
       "2    1\n",
       "3    0\n",
       "4    1\n",
       "Name: Outcome, dtype: int64"
      ]
     },
     "execution_count": 7,
     "metadata": {
      "tags": []
     },
     "output_type": "execute_result"
    }
   ],
   "source": [
    "y.head()"
   ]
  },
  {
   "cell_type": "code",
   "execution_count": 8,
   "metadata": {
    "colab": {},
    "colab_type": "code",
    "id": "R7EdlDqrLiuw"
   },
   "outputs": [],
   "source": [
    "# define the keras model\n",
    "model = Sequential()\n",
    "model.add(Dense(12, input_dim=8, activation='relu'))\n",
    "model.add(Dense(8, activation='relu'))\n",
    "model.add(Dense(1, activation='sigmoid'))"
   ]
  },
  {
   "cell_type": "code",
   "execution_count": 9,
   "metadata": {
    "colab": {},
    "colab_type": "code",
    "id": "crutFCBkLvX0"
   },
   "outputs": [],
   "source": [
    "# compile the keras model\n",
    "model.compile(loss='binary_crossentropy', optimizer='adam', metrics=['accuracy'])   "
   ]
  },
  {
   "cell_type": "code",
   "execution_count": 10,
   "metadata": {
    "colab": {},
    "colab_type": "code",
    "id": "Q71Zei65Lz_o"
   },
   "outputs": [],
   "source": [
    "from sklearn.model_selection import train_test_split\n",
    "X_train, X_test, y_train, y_test = train_test_split(X, y, test_size=0.2, random_state=0)"
   ]
  },
  {
   "cell_type": "code",
   "execution_count": 11,
   "metadata": {
    "colab": {
     "base_uri": "https://localhost:8080/",
     "height": 1000
    },
    "colab_type": "code",
    "id": "uKnsa1FLP04x",
    "outputId": "5e65270f-bb6e-4fbf-8560-f101ad5e3fdb"
   },
   "outputs": [
    {
     "name": "stdout",
     "output_type": "stream",
     "text": [
      "Epoch 1/150\n",
      "768/768 [==============================] - 0s 256us/step - loss: 3.0817 - accuracy: 0.4805\n",
      "Epoch 2/150\n",
      "768/768 [==============================] - 0s 114us/step - loss: 1.2605 - accuracy: 0.5156\n",
      "Epoch 3/150\n",
      "768/768 [==============================] - 0s 117us/step - loss: 1.0004 - accuracy: 0.5586\n",
      "Epoch 4/150\n",
      "768/768 [==============================] - 0s 123us/step - loss: 0.9170 - accuracy: 0.5964\n",
      "Epoch 5/150\n",
      "768/768 [==============================] - 0s 132us/step - loss: 0.8076 - accuracy: 0.5951\n",
      "Epoch 6/150\n",
      "768/768 [==============================] - 0s 113us/step - loss: 0.7803 - accuracy: 0.5872\n",
      "Epoch 7/150\n",
      "768/768 [==============================] - 0s 115us/step - loss: 0.7315 - accuracy: 0.6354\n",
      "Epoch 8/150\n",
      "768/768 [==============================] - 0s 119us/step - loss: 0.7165 - accuracy: 0.6341\n",
      "Epoch 9/150\n",
      "768/768 [==============================] - 0s 114us/step - loss: 0.7006 - accuracy: 0.6419\n",
      "Epoch 10/150\n",
      "768/768 [==============================] - 0s 113us/step - loss: 0.7767 - accuracy: 0.6406\n",
      "Epoch 11/150\n",
      "768/768 [==============================] - 0s 113us/step - loss: 0.6746 - accuracy: 0.6549\n",
      "Epoch 12/150\n",
      "768/768 [==============================] - 0s 114us/step - loss: 0.6473 - accuracy: 0.6693\n",
      "Epoch 13/150\n",
      "768/768 [==============================] - 0s 112us/step - loss: 0.6231 - accuracy: 0.6719\n",
      "Epoch 14/150\n",
      "768/768 [==============================] - 0s 115us/step - loss: 0.6228 - accuracy: 0.6836\n",
      "Epoch 15/150\n",
      "768/768 [==============================] - 0s 122us/step - loss: 0.6244 - accuracy: 0.6732\n",
      "Epoch 16/150\n",
      "768/768 [==============================] - 0s 112us/step - loss: 0.6075 - accuracy: 0.6914\n",
      "Epoch 17/150\n",
      "768/768 [==============================] - 0s 113us/step - loss: 0.6397 - accuracy: 0.6836\n",
      "Epoch 18/150\n",
      "768/768 [==============================] - 0s 123us/step - loss: 0.5947 - accuracy: 0.7057\n",
      "Epoch 19/150\n",
      "768/768 [==============================] - 0s 115us/step - loss: 0.6014 - accuracy: 0.6992\n",
      "Epoch 20/150\n",
      "768/768 [==============================] - 0s 112us/step - loss: 0.5828 - accuracy: 0.7148\n",
      "Epoch 21/150\n",
      "768/768 [==============================] - 0s 114us/step - loss: 0.6011 - accuracy: 0.6953\n",
      "Epoch 22/150\n",
      "768/768 [==============================] - 0s 115us/step - loss: 0.5973 - accuracy: 0.6927\n",
      "Epoch 23/150\n",
      "768/768 [==============================] - 0s 115us/step - loss: 0.5900 - accuracy: 0.6940\n",
      "Epoch 24/150\n",
      "768/768 [==============================] - 0s 116us/step - loss: 0.5745 - accuracy: 0.7227\n",
      "Epoch 25/150\n",
      "768/768 [==============================] - 0s 114us/step - loss: 0.5653 - accuracy: 0.7227\n",
      "Epoch 26/150\n",
      "768/768 [==============================] - 0s 123us/step - loss: 0.5975 - accuracy: 0.6979\n",
      "Epoch 27/150\n",
      "768/768 [==============================] - 0s 113us/step - loss: 0.5693 - accuracy: 0.7201\n",
      "Epoch 28/150\n",
      "768/768 [==============================] - 0s 113us/step - loss: 0.5658 - accuracy: 0.7148\n",
      "Epoch 29/150\n",
      "768/768 [==============================] - 0s 115us/step - loss: 0.5755 - accuracy: 0.7214\n",
      "Epoch 30/150\n",
      "768/768 [==============================] - 0s 113us/step - loss: 0.5811 - accuracy: 0.7188\n",
      "Epoch 31/150\n",
      "768/768 [==============================] - 0s 111us/step - loss: 0.5548 - accuracy: 0.7292\n",
      "Epoch 32/150\n",
      "768/768 [==============================] - 0s 113us/step - loss: 0.5516 - accuracy: 0.7331\n",
      "Epoch 33/150\n",
      "768/768 [==============================] - 0s 113us/step - loss: 0.5562 - accuracy: 0.7279\n",
      "Epoch 34/150\n",
      "768/768 [==============================] - 0s 111us/step - loss: 0.5620 - accuracy: 0.7279\n",
      "Epoch 35/150\n",
      "768/768 [==============================] - 0s 112us/step - loss: 0.5660 - accuracy: 0.7435\n",
      "Epoch 36/150\n",
      "768/768 [==============================] - 0s 111us/step - loss: 0.5497 - accuracy: 0.7318\n",
      "Epoch 37/150\n",
      "768/768 [==============================] - 0s 126us/step - loss: 0.5539 - accuracy: 0.7214\n",
      "Epoch 38/150\n",
      "768/768 [==============================] - 0s 116us/step - loss: 0.5467 - accuracy: 0.7318\n",
      "Epoch 39/150\n",
      "768/768 [==============================] - 0s 116us/step - loss: 0.5545 - accuracy: 0.7396\n",
      "Epoch 40/150\n",
      "768/768 [==============================] - 0s 112us/step - loss: 0.5283 - accuracy: 0.7435\n",
      "Epoch 41/150\n",
      "768/768 [==============================] - 0s 114us/step - loss: 0.5298 - accuracy: 0.7487\n",
      "Epoch 42/150\n",
      "768/768 [==============================] - 0s 113us/step - loss: 0.5304 - accuracy: 0.7344\n",
      "Epoch 43/150\n",
      "768/768 [==============================] - 0s 112us/step - loss: 0.5688 - accuracy: 0.7135\n",
      "Epoch 44/150\n",
      "768/768 [==============================] - 0s 111us/step - loss: 0.5655 - accuracy: 0.7161\n",
      "Epoch 45/150\n",
      "768/768 [==============================] - 0s 121us/step - loss: 0.5230 - accuracy: 0.7305\n",
      "Epoch 46/150\n",
      "768/768 [==============================] - 0s 113us/step - loss: 0.5469 - accuracy: 0.7344\n",
      "Epoch 47/150\n",
      "768/768 [==============================] - 0s 115us/step - loss: 0.5354 - accuracy: 0.7318\n",
      "Epoch 48/150\n",
      "768/768 [==============================] - 0s 113us/step - loss: 0.5298 - accuracy: 0.7266\n",
      "Epoch 49/150\n",
      "768/768 [==============================] - 0s 119us/step - loss: 0.5312 - accuracy: 0.7500\n",
      "Epoch 50/150\n",
      "768/768 [==============================] - 0s 116us/step - loss: 0.5233 - accuracy: 0.7266\n",
      "Epoch 51/150\n",
      "768/768 [==============================] - 0s 113us/step - loss: 0.5524 - accuracy: 0.7057\n",
      "Epoch 52/150\n",
      "768/768 [==============================] - 0s 116us/step - loss: 0.5164 - accuracy: 0.7370\n",
      "Epoch 53/150\n",
      "768/768 [==============================] - 0s 114us/step - loss: 0.5523 - accuracy: 0.7227\n",
      "Epoch 54/150\n",
      "768/768 [==============================] - 0s 114us/step - loss: 0.5374 - accuracy: 0.7292\n",
      "Epoch 55/150\n",
      "768/768 [==============================] - 0s 111us/step - loss: 0.5322 - accuracy: 0.7266\n",
      "Epoch 56/150\n",
      "768/768 [==============================] - 0s 113us/step - loss: 0.5282 - accuracy: 0.7240\n",
      "Epoch 57/150\n",
      "768/768 [==============================] - 0s 114us/step - loss: 0.5250 - accuracy: 0.7396\n",
      "Epoch 58/150\n",
      "768/768 [==============================] - 0s 111us/step - loss: 0.5427 - accuracy: 0.7318\n",
      "Epoch 59/150\n",
      "768/768 [==============================] - 0s 110us/step - loss: 0.5072 - accuracy: 0.7539\n",
      "Epoch 60/150\n",
      "768/768 [==============================] - 0s 122us/step - loss: 0.5186 - accuracy: 0.7435\n",
      "Epoch 61/150\n",
      "768/768 [==============================] - 0s 112us/step - loss: 0.5121 - accuracy: 0.7370\n",
      "Epoch 62/150\n",
      "768/768 [==============================] - 0s 113us/step - loss: 0.5166 - accuracy: 0.7578\n",
      "Epoch 63/150\n",
      "768/768 [==============================] - 0s 115us/step - loss: 0.5056 - accuracy: 0.7630\n",
      "Epoch 64/150\n",
      "768/768 [==============================] - 0s 114us/step - loss: 0.5172 - accuracy: 0.7396\n",
      "Epoch 65/150\n",
      "768/768 [==============================] - 0s 112us/step - loss: 0.5092 - accuracy: 0.7539\n",
      "Epoch 66/150\n",
      "768/768 [==============================] - 0s 111us/step - loss: 0.5266 - accuracy: 0.7279\n",
      "Epoch 67/150\n",
      "768/768 [==============================] - 0s 115us/step - loss: 0.5054 - accuracy: 0.7474\n",
      "Epoch 68/150\n",
      "768/768 [==============================] - 0s 112us/step - loss: 0.5061 - accuracy: 0.7630\n",
      "Epoch 69/150\n",
      "768/768 [==============================] - 0s 113us/step - loss: 0.5171 - accuracy: 0.7513\n",
      "Epoch 70/150\n",
      "768/768 [==============================] - 0s 113us/step - loss: 0.5269 - accuracy: 0.7279\n",
      "Epoch 71/150\n",
      "768/768 [==============================] - 0s 116us/step - loss: 0.5489 - accuracy: 0.7344\n",
      "Epoch 72/150\n",
      "768/768 [==============================] - 0s 112us/step - loss: 0.5148 - accuracy: 0.7448\n",
      "Epoch 73/150\n",
      "768/768 [==============================] - 0s 113us/step - loss: 0.5257 - accuracy: 0.7409\n",
      "Epoch 74/150\n",
      "768/768 [==============================] - 0s 114us/step - loss: 0.5118 - accuracy: 0.7331\n",
      "Epoch 75/150\n",
      "768/768 [==============================] - 0s 114us/step - loss: 0.4979 - accuracy: 0.7734\n",
      "Epoch 76/150\n",
      "768/768 [==============================] - 0s 112us/step - loss: 0.4983 - accuracy: 0.7539\n",
      "Epoch 77/150\n",
      "768/768 [==============================] - 0s 114us/step - loss: 0.5124 - accuracy: 0.7487\n",
      "Epoch 78/150\n",
      "768/768 [==============================] - 0s 113us/step - loss: 0.4912 - accuracy: 0.7591\n",
      "Epoch 79/150\n",
      "768/768 [==============================] - 0s 120us/step - loss: 0.4952 - accuracy: 0.7578\n",
      "Epoch 80/150\n",
      "768/768 [==============================] - 0s 113us/step - loss: 0.4968 - accuracy: 0.7630\n",
      "Epoch 81/150\n",
      "768/768 [==============================] - 0s 115us/step - loss: 0.5054 - accuracy: 0.7435\n",
      "Epoch 82/150\n",
      "768/768 [==============================] - 0s 115us/step - loss: 0.5009 - accuracy: 0.7474\n",
      "Epoch 83/150\n",
      "768/768 [==============================] - 0s 119us/step - loss: 0.5019 - accuracy: 0.7474\n",
      "Epoch 84/150\n",
      "768/768 [==============================] - 0s 112us/step - loss: 0.5032 - accuracy: 0.7461\n",
      "Epoch 85/150\n",
      "768/768 [==============================] - 0s 113us/step - loss: 0.5053 - accuracy: 0.7448\n",
      "Epoch 86/150\n",
      "768/768 [==============================] - 0s 114us/step - loss: 0.5152 - accuracy: 0.7461\n",
      "Epoch 87/150\n",
      "768/768 [==============================] - 0s 109us/step - loss: 0.4939 - accuracy: 0.7565\n",
      "Epoch 88/150\n",
      "768/768 [==============================] - 0s 113us/step - loss: 0.5003 - accuracy: 0.7487\n",
      "Epoch 89/150\n",
      "768/768 [==============================] - 0s 129us/step - loss: 0.4946 - accuracy: 0.7565\n",
      "Epoch 90/150\n",
      "768/768 [==============================] - 0s 115us/step - loss: 0.4831 - accuracy: 0.7630\n",
      "Epoch 91/150\n",
      "768/768 [==============================] - 0s 114us/step - loss: 0.4925 - accuracy: 0.7565\n",
      "Epoch 92/150\n",
      "768/768 [==============================] - 0s 115us/step - loss: 0.4940 - accuracy: 0.7552\n",
      "Epoch 93/150\n",
      "768/768 [==============================] - 0s 115us/step - loss: 0.4818 - accuracy: 0.7552\n",
      "Epoch 94/150\n",
      "768/768 [==============================] - 0s 119us/step - loss: 0.5214 - accuracy: 0.7370\n",
      "Epoch 95/150\n",
      "768/768 [==============================] - 0s 114us/step - loss: 0.5066 - accuracy: 0.7656\n",
      "Epoch 96/150\n",
      "768/768 [==============================] - 0s 114us/step - loss: 0.5271 - accuracy: 0.7448\n",
      "Epoch 97/150\n",
      "768/768 [==============================] - 0s 116us/step - loss: 0.4908 - accuracy: 0.7747\n",
      "Epoch 98/150\n",
      "768/768 [==============================] - 0s 116us/step - loss: 0.4957 - accuracy: 0.7643\n",
      "Epoch 99/150\n",
      "768/768 [==============================] - 0s 114us/step - loss: 0.5010 - accuracy: 0.7396\n",
      "Epoch 100/150\n",
      "768/768 [==============================] - 0s 116us/step - loss: 0.4894 - accuracy: 0.7695\n",
      "Epoch 101/150\n",
      "768/768 [==============================] - 0s 128us/step - loss: 0.4776 - accuracy: 0.7682\n",
      "Epoch 102/150\n",
      "768/768 [==============================] - 0s 117us/step - loss: 0.4895 - accuracy: 0.7604\n",
      "Epoch 103/150\n",
      "768/768 [==============================] - 0s 126us/step - loss: 0.4928 - accuracy: 0.7552\n",
      "Epoch 104/150\n",
      "768/768 [==============================] - 0s 116us/step - loss: 0.4915 - accuracy: 0.7695\n",
      "Epoch 105/150\n",
      "768/768 [==============================] - 0s 117us/step - loss: 0.4940 - accuracy: 0.7526\n",
      "Epoch 106/150\n",
      "768/768 [==============================] - 0s 117us/step - loss: 0.5098 - accuracy: 0.7435\n",
      "Epoch 107/150\n",
      "768/768 [==============================] - 0s 115us/step - loss: 0.4940 - accuracy: 0.7617\n",
      "Epoch 108/150\n",
      "768/768 [==============================] - 0s 114us/step - loss: 0.4859 - accuracy: 0.7539\n",
      "Epoch 109/150\n",
      "768/768 [==============================] - 0s 112us/step - loss: 0.4732 - accuracy: 0.7786\n",
      "Epoch 110/150\n",
      "768/768 [==============================] - 0s 113us/step - loss: 0.4884 - accuracy: 0.7721\n",
      "Epoch 111/150\n",
      "768/768 [==============================] - 0s 120us/step - loss: 0.4919 - accuracy: 0.7591\n",
      "Epoch 112/150\n",
      "768/768 [==============================] - 0s 115us/step - loss: 0.4758 - accuracy: 0.7643\n",
      "Epoch 113/150\n",
      "768/768 [==============================] - 0s 112us/step - loss: 0.4779 - accuracy: 0.7682\n",
      "Epoch 114/150\n",
      "768/768 [==============================] - 0s 113us/step - loss: 0.4922 - accuracy: 0.7526\n",
      "Epoch 115/150\n",
      "768/768 [==============================] - 0s 112us/step - loss: 0.4758 - accuracy: 0.7734\n",
      "Epoch 116/150\n",
      "768/768 [==============================] - 0s 123us/step - loss: 0.4841 - accuracy: 0.7643\n",
      "Epoch 117/150\n",
      "768/768 [==============================] - 0s 119us/step - loss: 0.4875 - accuracy: 0.7565\n",
      "Epoch 118/150\n",
      "768/768 [==============================] - 0s 114us/step - loss: 0.4969 - accuracy: 0.7474\n",
      "Epoch 119/150\n",
      "768/768 [==============================] - 0s 113us/step - loss: 0.4797 - accuracy: 0.7656\n",
      "Epoch 120/150\n",
      "768/768 [==============================] - 0s 114us/step - loss: 0.4738 - accuracy: 0.7721\n",
      "Epoch 121/150\n",
      "768/768 [==============================] - 0s 114us/step - loss: 0.4886 - accuracy: 0.7760\n",
      "Epoch 122/150\n",
      "768/768 [==============================] - 0s 115us/step - loss: 0.4778 - accuracy: 0.7786\n",
      "Epoch 123/150\n",
      "768/768 [==============================] - 0s 113us/step - loss: 0.4965 - accuracy: 0.7734\n",
      "Epoch 124/150\n",
      "768/768 [==============================] - 0s 111us/step - loss: 0.4895 - accuracy: 0.7708\n",
      "Epoch 125/150\n",
      "768/768 [==============================] - 0s 114us/step - loss: 0.4729 - accuracy: 0.7682\n",
      "Epoch 126/150\n",
      "768/768 [==============================] - 0s 116us/step - loss: 0.4708 - accuracy: 0.7812\n",
      "Epoch 127/150\n",
      "768/768 [==============================] - 0s 112us/step - loss: 0.4912 - accuracy: 0.7526\n",
      "Epoch 128/150\n",
      "768/768 [==============================] - 0s 116us/step - loss: 0.4696 - accuracy: 0.7747\n",
      "Epoch 129/150\n",
      "768/768 [==============================] - 0s 118us/step - loss: 0.4747 - accuracy: 0.7747\n",
      "Epoch 130/150\n",
      "768/768 [==============================] - 0s 114us/step - loss: 0.4612 - accuracy: 0.7878\n",
      "Epoch 131/150\n",
      "768/768 [==============================] - 0s 112us/step - loss: 0.4666 - accuracy: 0.7826\n",
      "Epoch 132/150\n",
      "768/768 [==============================] - 0s 111us/step - loss: 0.4808 - accuracy: 0.7799\n",
      "Epoch 133/150\n",
      "768/768 [==============================] - 0s 116us/step - loss: 0.4754 - accuracy: 0.7617\n",
      "Epoch 134/150\n",
      "768/768 [==============================] - 0s 113us/step - loss: 0.4730 - accuracy: 0.7826\n",
      "Epoch 135/150\n",
      "768/768 [==============================] - 0s 115us/step - loss: 0.4679 - accuracy: 0.7760\n",
      "Epoch 136/150\n",
      "768/768 [==============================] - 0s 114us/step - loss: 0.4688 - accuracy: 0.7786\n",
      "Epoch 137/150\n",
      "768/768 [==============================] - 0s 122us/step - loss: 0.4838 - accuracy: 0.7513\n",
      "Epoch 138/150\n",
      "768/768 [==============================] - 0s 119us/step - loss: 0.4658 - accuracy: 0.7982\n",
      "Epoch 139/150\n",
      "768/768 [==============================] - 0s 119us/step - loss: 0.4718 - accuracy: 0.7682\n",
      "Epoch 140/150\n",
      "768/768 [==============================] - 0s 113us/step - loss: 0.4755 - accuracy: 0.7656\n",
      "Epoch 141/150\n",
      "768/768 [==============================] - 0s 117us/step - loss: 0.4645 - accuracy: 0.7773\n",
      "Epoch 142/150\n",
      "768/768 [==============================] - 0s 115us/step - loss: 0.4618 - accuracy: 0.7760\n",
      "Epoch 143/150\n",
      "768/768 [==============================] - 0s 114us/step - loss: 0.4754 - accuracy: 0.7773\n",
      "Epoch 144/150\n",
      "768/768 [==============================] - 0s 113us/step - loss: 0.4749 - accuracy: 0.7786\n",
      "Epoch 145/150\n",
      "768/768 [==============================] - 0s 113us/step - loss: 0.4832 - accuracy: 0.7734\n",
      "Epoch 146/150\n",
      "768/768 [==============================] - 0s 113us/step - loss: 0.4771 - accuracy: 0.7708\n",
      "Epoch 147/150\n",
      "768/768 [==============================] - 0s 121us/step - loss: 0.4824 - accuracy: 0.7721\n",
      "Epoch 148/150\n",
      "768/768 [==============================] - 0s 116us/step - loss: 0.4626 - accuracy: 0.7747\n",
      "Epoch 149/150\n",
      "768/768 [==============================] - 0s 113us/step - loss: 0.4725 - accuracy: 0.7669\n",
      "Epoch 150/150\n",
      "768/768 [==============================] - 0s 118us/step - loss: 0.4597 - accuracy: 0.7852\n"
     ]
    },
    {
     "data": {
      "text/plain": [
       "<keras.callbacks.callbacks.History at 0x7f3735ec8c50>"
      ]
     },
     "execution_count": 11,
     "metadata": {
      "tags": []
     },
     "output_type": "execute_result"
    }
   ],
   "source": [
    "# fit the keras model on the dataset\n",
    "model.fit(X, y, epochs=150, batch_size=10)"
   ]
  },
  {
   "cell_type": "code",
   "execution_count": 12,
   "metadata": {
    "colab": {
     "base_uri": "https://localhost:8080/",
     "height": 51
    },
    "colab_type": "code",
    "id": "EulWcpHTL15o",
    "outputId": "d9b9cde2-2ceb-4630-875c-1f97143b33b1"
   },
   "outputs": [
    {
     "name": "stdout",
     "output_type": "stream",
     "text": [
      "768/768 [==============================] - 0s 39us/step\n",
      "Accuracy: 77.86\n"
     ]
    }
   ],
   "source": [
    "# evaluate the keras model\n",
    "_, accuracy = model.evaluate(X, y)\n",
    "print('Accuracy: %.2f' % (accuracy*100))"
   ]
  },
  {
   "cell_type": "code",
   "execution_count": 13,
   "metadata": {
    "colab": {},
    "colab_type": "code",
    "id": "NGGpDYyhNK2j"
   },
   "outputs": [],
   "source": [
    "# make class predictions with the model\n",
    "predictions = model.predict_classes(X)"
   ]
  },
  {
   "cell_type": "code",
   "execution_count": 14,
   "metadata": {
    "colab": {
     "base_uri": "https://localhost:8080/",
     "height": 359
    },
    "colab_type": "code",
    "id": "XKX9l-5HNsmV",
    "outputId": "ca46c245-1587-4540-e8e4-8eedcfe745e2"
   },
   "outputs": [
    {
     "data": {
      "text/html": [
       "<div>\n",
       "<style scoped>\n",
       "    .dataframe tbody tr th:only-of-type {\n",
       "        vertical-align: middle;\n",
       "    }\n",
       "\n",
       "    .dataframe tbody tr th {\n",
       "        vertical-align: top;\n",
       "    }\n",
       "\n",
       "    .dataframe thead th {\n",
       "        text-align: right;\n",
       "    }\n",
       "</style>\n",
       "<table border=\"1\" class=\"dataframe\">\n",
       "  <thead>\n",
       "    <tr style=\"text-align: right;\">\n",
       "      <th></th>\n",
       "      <th>Original</th>\n",
       "      <th>Predicted</th>\n",
       "    </tr>\n",
       "  </thead>\n",
       "  <tbody>\n",
       "    <tr>\n",
       "      <th>0</th>\n",
       "      <td>1</td>\n",
       "      <td>1</td>\n",
       "    </tr>\n",
       "    <tr>\n",
       "      <th>1</th>\n",
       "      <td>0</td>\n",
       "      <td>0</td>\n",
       "    </tr>\n",
       "    <tr>\n",
       "      <th>2</th>\n",
       "      <td>1</td>\n",
       "      <td>1</td>\n",
       "    </tr>\n",
       "    <tr>\n",
       "      <th>3</th>\n",
       "      <td>0</td>\n",
       "      <td>0</td>\n",
       "    </tr>\n",
       "    <tr>\n",
       "      <th>4</th>\n",
       "      <td>1</td>\n",
       "      <td>1</td>\n",
       "    </tr>\n",
       "    <tr>\n",
       "      <th>5</th>\n",
       "      <td>0</td>\n",
       "      <td>0</td>\n",
       "    </tr>\n",
       "    <tr>\n",
       "      <th>6</th>\n",
       "      <td>1</td>\n",
       "      <td>0</td>\n",
       "    </tr>\n",
       "    <tr>\n",
       "      <th>7</th>\n",
       "      <td>0</td>\n",
       "      <td>1</td>\n",
       "    </tr>\n",
       "    <tr>\n",
       "      <th>8</th>\n",
       "      <td>1</td>\n",
       "      <td>1</td>\n",
       "    </tr>\n",
       "    <tr>\n",
       "      <th>9</th>\n",
       "      <td>1</td>\n",
       "      <td>1</td>\n",
       "    </tr>\n",
       "  </tbody>\n",
       "</table>\n",
       "</div>"
      ],
      "text/plain": [
       "   Original  Predicted\n",
       "0         1          1\n",
       "1         0          0\n",
       "2         1          1\n",
       "3         0          0\n",
       "4         1          1\n",
       "5         0          0\n",
       "6         1          0\n",
       "7         0          1\n",
       "8         1          1\n",
       "9         1          1"
      ]
     },
     "execution_count": 14,
     "metadata": {
      "tags": []
     },
     "output_type": "execute_result"
    }
   ],
   "source": [
    "pd.DataFrame(np.c_[y,predictions ], columns=[\"Original\",\"Predicted\"]).head(10)"
   ]
  },
  {
   "cell_type": "code",
   "execution_count": 14,
   "metadata": {
    "colab": {},
    "colab_type": "code",
    "id": "i_fvHXMTQogy"
   },
   "outputs": [],
   "source": []
  }
 ],
 "metadata": {
  "colab": {
   "collapsed_sections": [],
   "name": "Diabetes.ipynb",
   "provenance": []
  },
  "kernelspec": {
   "display_name": "Python 3",
   "language": "python",
   "name": "python3"
  },
  "language_info": {
   "codemirror_mode": {
    "name": "ipython",
    "version": 3
   },
   "file_extension": ".py",
   "mimetype": "text/x-python",
   "name": "python",
   "nbconvert_exporter": "python",
   "pygments_lexer": "ipython3",
   "version": "3.7.7"
  }
 },
 "nbformat": 4,
 "nbformat_minor": 1
}
