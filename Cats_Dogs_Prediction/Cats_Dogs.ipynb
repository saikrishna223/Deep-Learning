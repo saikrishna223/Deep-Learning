{
 "cells": [
  {
   "cell_type": "markdown",
   "metadata": {},
   "source": [
    "# Importing required libraries"
   ]
  },
  {
   "cell_type": "code",
   "execution_count": 1,
   "metadata": {},
   "outputs": [],
   "source": [
    "import pandas as pd\n",
    "import numpy as np\n",
    "import matplotlib.pyplot as plt\n",
    "import tensorflow as tf\n",
    "import os\n",
    "from tensorflow.keras.preprocessing import image\n",
    "#from zipfile import ZipFile "
   ]
  },
  {
   "cell_type": "markdown",
   "metadata": {},
   "source": [
    "# Assigning paths"
   ]
  },
  {
   "cell_type": "code",
   "execution_count": 2,
   "metadata": {},
   "outputs": [],
   "source": [
    "test_dir=r\"C:\\Users\\DELLPC\\Desktop\\MACHINE_LEARNING\\ML_Projects\\New folder\\Deep Learning\\Cats_Dogs_Prediction\\dataset\\test_set\"\n",
    "train_dir=r\"C:\\Users\\DELLPC\\Desktop\\MACHINE_LEARNING\\ML_Projects\\New folder\\Deep Learning\\Cats_Dogs_Prediction\\dataset\\training_set\"\n",
    "\n",
    "train_dir_cats = train_dir + '/cats'\n",
    "train_dir_dogs = train_dir + '/dogs'\n",
    "test_dir_cats = test_dir + '/cats'\n",
    "test_dir_dogs = test_dir + '/dogs'"
   ]
  },
  {
   "cell_type": "code",
   "execution_count": 3,
   "metadata": {},
   "outputs": [
    {
     "name": "stdout",
     "output_type": "stream",
     "text": [
      "number of cats training images -  4001\n",
      "number of dogs training images -  4001\n",
      "number of cats testing images -  1001\n",
      "number of dogs testing images -  1001\n"
     ]
    }
   ],
   "source": [
    "print('number of cats training images - ',len(os.listdir(train_dir_cats)))\n",
    "print('number of dogs training images - ',len(os.listdir(train_dir_dogs)))\n",
    "print('number of cats testing images - ',len(os.listdir(test_dir_cats)))\n",
    "print('number of dogs testing images - ',len(os.listdir(test_dir_dogs)))"
   ]
  },
  {
   "cell_type": "markdown",
   "metadata": {},
   "source": [
    "# Convert the RGB images into array of numbers by ImageDataGenerator"
   ]
  },
  {
   "cell_type": "code",
   "execution_count": 4,
   "metadata": {},
   "outputs": [],
   "source": [
    "from tensorflow.keras.preprocessing.image import ImageDataGenerator\n",
    "data_generator = ImageDataGenerator(rescale = 1.0/255.0, zoom_range = 0.2)"
   ]
  },
  {
   "cell_type": "code",
   "execution_count": 5,
   "metadata": {},
   "outputs": [
    {
     "name": "stdout",
     "output_type": "stream",
     "text": [
      "Found 8000 images belonging to 2 classes.\n",
      "Found 2000 images belonging to 2 classes.\n"
     ]
    }
   ],
   "source": [
    "batch_size = 32\n",
    "training_data = data_generator.flow_from_directory(directory = train_dir,\n",
    "                                                   target_size = (64, 64),\n",
    "                                                   batch_size = batch_size,\n",
    "                                                   class_mode = 'binary')\n",
    "testing_data = data_generator.flow_from_directory(directory = test_dir,\n",
    "                                                  target_size = (64, 64),\n",
    "                                                  batch_size = batch_size,\n",
    "                                                  class_mode = 'binary')"
   ]
  },
  {
   "cell_type": "markdown",
   "metadata": {},
   "source": [
    "# Assigning layers"
   ]
  },
  {
   "cell_type": "code",
   "execution_count": 6,
   "metadata": {},
   "outputs": [],
   "source": [
    "from tensorflow.keras.models import Sequential\n",
    "from tensorflow.keras.layers import Conv2D, MaxPooling2D, Flatten, Dense, Dropout, Activation\n",
    "\n",
    "model = Sequential()\n",
    "model.add(Conv2D(32, (3, 3), activation = 'relu', input_shape = training_data.image_shape))\n",
    "model.add(MaxPooling2D(2, 2))\n",
    "model.add(Dropout(0.3))\n",
    "model.add(Conv2D(64, (3, 3), activation = 'relu'))\n",
    "model.add(MaxPooling2D(2, 2))\n",
    "model.add(Dropout(0.2))\n",
    "model.add(Conv2D(126, (3, 3), activation = 'relu'))\n",
    "model.add(MaxPooling2D(2, 2))\n",
    "model.add(Dropout(0.15))\n",
    "model.add(Flatten())\n",
    "model.add(Dense(32, activation = 'relu'))\n",
    "model.add(Dropout( 0.15))\n",
    "model.add(Dense( 64, activation = 'relu'))\n",
    "model.add(Dropout(0.1))\n",
    "model.add(Dense(units = len(set(training_data.classes)), activation = 'sigmoid'))\n",
    "model.compile(optimizer = 'adam', loss = 'sparse_categorical_crossentropy', metrics = ['accuracy'])"
   ]
  },
  {
   "cell_type": "code",
   "execution_count": 7,
   "metadata": {},
   "outputs": [
    {
     "name": "stdout",
     "output_type": "stream",
     "text": [
      "Model: \"sequential\"\n",
      "_________________________________________________________________\n",
      "Layer (type)                 Output Shape              Param #   \n",
      "=================================================================\n",
      "conv2d (Conv2D)              (None, 62, 62, 32)        896       \n",
      "_________________________________________________________________\n",
      "max_pooling2d (MaxPooling2D) (None, 31, 31, 32)        0         \n",
      "_________________________________________________________________\n",
      "dropout (Dropout)            (None, 31, 31, 32)        0         \n",
      "_________________________________________________________________\n",
      "conv2d_1 (Conv2D)            (None, 29, 29, 64)        18496     \n",
      "_________________________________________________________________\n",
      "max_pooling2d_1 (MaxPooling2 (None, 14, 14, 64)        0         \n",
      "_________________________________________________________________\n",
      "dropout_1 (Dropout)          (None, 14, 14, 64)        0         \n",
      "_________________________________________________________________\n",
      "conv2d_2 (Conv2D)            (None, 12, 12, 126)       72702     \n",
      "_________________________________________________________________\n",
      "max_pooling2d_2 (MaxPooling2 (None, 6, 6, 126)         0         \n",
      "_________________________________________________________________\n",
      "dropout_2 (Dropout)          (None, 6, 6, 126)         0         \n",
      "_________________________________________________________________\n",
      "flatten (Flatten)            (None, 4536)              0         \n",
      "_________________________________________________________________\n",
      "dense (Dense)                (None, 32)                145184    \n",
      "_________________________________________________________________\n",
      "dropout_3 (Dropout)          (None, 32)                0         \n",
      "_________________________________________________________________\n",
      "dense_1 (Dense)              (None, 64)                2112      \n",
      "_________________________________________________________________\n",
      "dropout_4 (Dropout)          (None, 64)                0         \n",
      "_________________________________________________________________\n",
      "dense_2 (Dense)              (None, 2)                 130       \n",
      "=================================================================\n",
      "Total params: 239,520\n",
      "Trainable params: 239,520\n",
      "Non-trainable params: 0\n",
      "_________________________________________________________________\n"
     ]
    }
   ],
   "source": [
    "model.summary()"
   ]
  },
  {
   "cell_type": "markdown",
   "metadata": {},
   "source": [
    "# Training model"
   ]
  },
  {
   "cell_type": "code",
   "execution_count": 8,
   "metadata": {},
   "outputs": [
    {
     "name": "stdout",
     "output_type": "stream",
     "text": [
      "Epoch 1/25\n",
      "100/100 [==============================] - 67s 667ms/step - loss: 0.6940 - accuracy: 0.5022 - val_loss: 0.6930 - val_accuracy: 0.5135\n",
      "Epoch 2/25\n",
      "100/100 [==============================] - 69s 688ms/step - loss: 0.6934 - accuracy: 0.5084 - val_loss: 0.6933 - val_accuracy: 0.4981\n",
      "Epoch 3/25\n",
      "100/100 [==============================] - 74s 736ms/step - loss: 0.6915 - accuracy: 0.5138 - val_loss: 0.6877 - val_accuracy: 0.5057\n",
      "Epoch 4/25\n",
      "100/100 [==============================] - 73s 728ms/step - loss: 0.6779 - accuracy: 0.5763 - val_loss: 0.6522 - val_accuracy: 0.6457\n",
      "Epoch 5/25\n",
      "100/100 [==============================] - 73s 727ms/step - loss: 0.6678 - accuracy: 0.5884 - val_loss: 0.6789 - val_accuracy: 0.5493\n",
      "Epoch 6/25\n",
      "100/100 [==============================] - 75s 745ms/step - loss: 0.6511 - accuracy: 0.6247 - val_loss: 0.6754 - val_accuracy: 0.6011\n",
      "Epoch 7/25\n",
      "100/100 [==============================] - 76s 757ms/step - loss: 0.6290 - accuracy: 0.6441 - val_loss: 0.6054 - val_accuracy: 0.6888\n",
      "Epoch 8/25\n",
      "100/100 [==============================] - 76s 757ms/step - loss: 0.6200 - accuracy: 0.6597 - val_loss: 0.5813 - val_accuracy: 0.7085\n",
      "Epoch 9/25\n",
      "100/100 [==============================] - 77s 769ms/step - loss: 0.5914 - accuracy: 0.6881 - val_loss: 0.5850 - val_accuracy: 0.6922\n",
      "Epoch 10/25\n",
      "100/100 [==============================] - 79s 790ms/step - loss: 0.5768 - accuracy: 0.6994 - val_loss: 0.5781 - val_accuracy: 0.6997\n",
      "Epoch 11/25\n",
      "100/100 [==============================] - 78s 781ms/step - loss: 0.5688 - accuracy: 0.7116 - val_loss: 0.5357 - val_accuracy: 0.7356\n",
      "Epoch 12/25\n",
      "100/100 [==============================] - 78s 779ms/step - loss: 0.5604 - accuracy: 0.7100 - val_loss: 0.5701 - val_accuracy: 0.7063\n",
      "Epoch 13/25\n",
      "100/100 [==============================] - 76s 761ms/step - loss: 0.5564 - accuracy: 0.7188 - val_loss: 0.5292 - val_accuracy: 0.7378\n",
      "Epoch 14/25\n",
      "100/100 [==============================] - 77s 771ms/step - loss: 0.5489 - accuracy: 0.7250 - val_loss: 0.5893 - val_accuracy: 0.6853\n",
      "Epoch 15/25\n",
      "100/100 [==============================] - 76s 762ms/step - loss: 0.5412 - accuracy: 0.7297 - val_loss: 0.5231 - val_accuracy: 0.7399\n",
      "Epoch 16/25\n",
      "100/100 [==============================] - 77s 769ms/step - loss: 0.5309 - accuracy: 0.7422 - val_loss: 0.5367 - val_accuracy: 0.7211\n",
      "Epoch 17/25\n",
      "100/100 [==============================] - 77s 769ms/step - loss: 0.5368 - accuracy: 0.7203 - val_loss: 0.5489 - val_accuracy: 0.7305\n",
      "Epoch 18/25\n",
      "100/100 [==============================] - 77s 766ms/step - loss: 0.5155 - accuracy: 0.7431 - val_loss: 0.5150 - val_accuracy: 0.7566\n",
      "Epoch 19/25\n",
      "100/100 [==============================] - 78s 785ms/step - loss: 0.4865 - accuracy: 0.7631 - val_loss: 0.4989 - val_accuracy: 0.7566\n",
      "Epoch 20/25\n",
      "100/100 [==============================] - 76s 764ms/step - loss: 0.5024 - accuracy: 0.7541 - val_loss: 0.4916 - val_accuracy: 0.7560\n",
      "Epoch 21/25\n",
      "100/100 [==============================] - 77s 774ms/step - loss: 0.4755 - accuracy: 0.7697 - val_loss: 0.4696 - val_accuracy: 0.7792\n",
      "Epoch 22/25\n",
      "100/100 [==============================] - 75s 753ms/step - loss: 0.4702 - accuracy: 0.7691 - val_loss: 0.4989 - val_accuracy: 0.7519\n",
      "Epoch 23/25\n",
      "100/100 [==============================] - 76s 762ms/step - loss: 0.4756 - accuracy: 0.7781 - val_loss: 0.5101 - val_accuracy: 0.7487\n",
      "Epoch 24/25\n",
      "100/100 [==============================] - 76s 760ms/step - loss: 0.4420 - accuracy: 0.7887 - val_loss: 0.4595 - val_accuracy: 0.7874\n",
      "Epoch 25/25\n",
      "100/100 [==============================] - 76s 762ms/step - loss: 0.4619 - accuracy: 0.7869 - val_loss: 0.4850 - val_accuracy: 0.7622\n"
     ]
    }
   ],
   "source": [
    "fitted_model = model.fit_generator(training_data,\n",
    "                        steps_per_epoch = 100,\n",
    "                        epochs = 25,\n",
    "                        validation_data = testing_data,\n",
    "                        validation_steps = 100)"
   ]
  },
  {
   "cell_type": "markdown",
   "metadata": {},
   "source": [
    "# Plotting accuracy and validation accuracy"
   ]
  },
  {
   "cell_type": "code",
   "execution_count": 9,
   "metadata": {},
   "outputs": [
    {
     "data": {
      "text/plain": [
       "<matplotlib.legend.Legend at 0xc58ffa4c88>"
      ]
     },
     "execution_count": 9,
     "metadata": {},
     "output_type": "execute_result"
    },
    {
     "data": {
      "image/png": "[encoded data removed]",
      "text/plain": [
       "<Figure size 432x288 with 1 Axes>"
      ]
     },
     "metadata": {
      "needs_background": "light"
     },
     "output_type": "display_data"
    }
   ],
   "source": [
    "accuracy = fitted_model.history['accuracy']\n",
    "plt.plot(range(len(accuracy)), accuracy, 'bo', label = 'accuracy')\n",
    "plt.legend()"
   ]
  },
  {
   "cell_type": "markdown",
   "metadata": {},
   "source": [
    "# Testing the model"
   ]
  },
  {
   "cell_type": "code",
   "execution_count": 10,
   "metadata": {},
   "outputs": [],
   "source": [
    "def testing_image(image_directory):\n",
    "    test_image = image.load_img(image_directory, target_size = (64, 64))\n",
    "    test_image = image.img_to_array(test_image)\n",
    "    test_image = np.expand_dims(test_image, axis = 0)\n",
    "    result = model.predict(x = test_image)\n",
    "    print(result)\n",
    "    if result[0][0]  == 1:\n",
    "        prediction = 'Cat'\n",
    "    else:\n",
    "        prediction = 'Dog'\n",
    "    return prediction"
   ]
  },
  {
   "cell_type": "code",
   "execution_count": 16,
   "metadata": {},
   "outputs": [
    {
     "name": "stdout",
     "output_type": "stream",
     "text": [
      "[[1. 1.]]\n",
      "Cat\n"
     ]
    }
   ],
   "source": [
    "print(testing_image(test_dir + '/cats/cat.4007.jpg'))"
   ]
  },
  {
   "cell_type": "code",
   "execution_count": 19,
   "metadata": {},
   "outputs": [
    {
     "name": "stdout",
     "output_type": "stream",
     "text": [
      "[[0. 1.]]\n",
      "Dog\n"
     ]
    }
   ],
   "source": [
    "print(testing_image(test_dir + '/dogs/dog.4076.jpg'))"
   ]
  },
  {
   "cell_type": "code",
   "execution_count": null,
   "metadata": {},
   "outputs": [],
   "source": []
  }
 ],
 "metadata": {
  "kernelspec": {
   "display_name": "Python 3",
   "language": "python",
   "name": "python3"
  },
  "language_info": {
   "codemirror_mode": {
    "name": "ipython",
    "version": 3
   },
   "file_extension": ".py",
   "mimetype": "text/x-python",
   "name": "python",
   "nbconvert_exporter": "python",
   "pygments_lexer": "ipython3",
   "version": "3.7.7"
  }
 },
 "nbformat": 4,
 "nbformat_minor": 4
}
